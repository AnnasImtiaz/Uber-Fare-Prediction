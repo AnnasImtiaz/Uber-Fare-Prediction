{
 "cells": [
  {
   "cell_type": "markdown",
   "id": "0cf4ce35",
   "metadata": {},
   "source": [
    "# Import Libraries"
   ]
  },
  {
   "cell_type": "code",
   "execution_count": 3,
   "id": "c958dbbb",
   "metadata": {},
   "outputs": [],
   "source": [
    "import numpy as np\n",
    "import pandas as pd\n",
    "import seaborn as sns\n",
    "import matplotlib.pyplot as plt\n",
    "from sklearn import svm\n",
    "from sklearn.model_selection import train_test_split\n",
    "from sklearn.neighbors import DistanceMetric\n",
    "from math import radians"
   ]
  },
  {
   "cell_type": "code",
   "execution_count": null,
   "id": "56a3c8b3",
   "metadata": {},
   "outputs": [],
   "source": []
  },
  {
   "cell_type": "markdown",
   "id": "d4359c91",
   "metadata": {},
   "source": [
    "# Load Data"
   ]
  },
  {
   "cell_type": "markdown",
   "id": "e28e2d15",
   "metadata": {},
   "source": [
    "### Data Source:\n",
    "https://www.kaggle.com/datasets/yasserh/uber-fares-dataset"
   ]
  },
  {
   "cell_type": "code",
   "execution_count": 4,
   "id": "896cbac1",
   "metadata": {},
   "outputs": [],
   "source": [
    "fare_data = pd.read_csv('C:/Users/muham/Downloads/Personal Development/Projects/Group Projects/Uber Fares/uber.csv')"
   ]
  },
  {
   "cell_type": "markdown",
   "id": "794ea7cc",
   "metadata": {},
   "source": [
    "Problem Statement:\n",
    "\n",
    "The project is about on world's largest taxi company Uber inc. In this project, we're looking to predict the fare for their future transactional cases. Uber delivers service to lakhs of customers daily. Now it becomes really important to manage their data properly to come up with new business ideas to get best results. Eventually, it becomes really important to estimate the fare prices accurately."
   ]
  },
  {
   "cell_type": "code",
   "execution_count": 5,
   "id": "4079b3bf",
   "metadata": {},
   "outputs": [
    {
     "name": "stdout",
     "output_type": "stream",
     "text": [
      "<class 'pandas.core.frame.DataFrame'>\n",
      "RangeIndex: 200000 entries, 0 to 199999\n",
      "Data columns (total 9 columns):\n",
      " #   Column             Non-Null Count   Dtype  \n",
      "---  ------             --------------   -----  \n",
      " 0   Unnamed: 0         200000 non-null  int64  \n",
      " 1   key                200000 non-null  object \n",
      " 2   fare_amount        200000 non-null  float64\n",
      " 3   pickup_datetime    200000 non-null  object \n",
      " 4   pickup_longitude   200000 non-null  float64\n",
      " 5   pickup_latitude    200000 non-null  float64\n",
      " 6   dropoff_longitude  199999 non-null  float64\n",
      " 7   dropoff_latitude   199999 non-null  float64\n",
      " 8   passenger_count    200000 non-null  int64  \n",
      "dtypes: float64(5), int64(2), object(2)\n",
      "memory usage: 13.7+ MB\n"
     ]
    }
   ],
   "source": [
    "fare_data.info()"
   ]
  },
  {
   "cell_type": "code",
   "execution_count": 6,
   "id": "03c21f7e",
   "metadata": {},
   "outputs": [
    {
     "data": {
      "text/html": [
       "<div>\n",
       "<style scoped>\n",
       "    .dataframe tbody tr th:only-of-type {\n",
       "        vertical-align: middle;\n",
       "    }\n",
       "\n",
       "    .dataframe tbody tr th {\n",
       "        vertical-align: top;\n",
       "    }\n",
       "\n",
       "    .dataframe thead th {\n",
       "        text-align: right;\n",
       "    }\n",
       "</style>\n",
       "<table border=\"1\" class=\"dataframe\">\n",
       "  <thead>\n",
       "    <tr style=\"text-align: right;\">\n",
       "      <th></th>\n",
       "      <th>Unnamed: 0</th>\n",
       "      <th>key</th>\n",
       "      <th>fare_amount</th>\n",
       "      <th>pickup_datetime</th>\n",
       "      <th>pickup_longitude</th>\n",
       "      <th>pickup_latitude</th>\n",
       "      <th>dropoff_longitude</th>\n",
       "      <th>dropoff_latitude</th>\n",
       "      <th>passenger_count</th>\n",
       "    </tr>\n",
       "  </thead>\n",
       "  <tbody>\n",
       "    <tr>\n",
       "      <th>0</th>\n",
       "      <td>24238194</td>\n",
       "      <td>2015-05-07 19:52:06.0000003</td>\n",
       "      <td>7.5</td>\n",
       "      <td>2015-05-07 19:52:06 UTC</td>\n",
       "      <td>-73.999817</td>\n",
       "      <td>40.738354</td>\n",
       "      <td>-73.999512</td>\n",
       "      <td>40.723217</td>\n",
       "      <td>1</td>\n",
       "    </tr>\n",
       "    <tr>\n",
       "      <th>1</th>\n",
       "      <td>27835199</td>\n",
       "      <td>2009-07-17 20:04:56.0000002</td>\n",
       "      <td>7.7</td>\n",
       "      <td>2009-07-17 20:04:56 UTC</td>\n",
       "      <td>-73.994355</td>\n",
       "      <td>40.728225</td>\n",
       "      <td>-73.994710</td>\n",
       "      <td>40.750325</td>\n",
       "      <td>1</td>\n",
       "    </tr>\n",
       "    <tr>\n",
       "      <th>2</th>\n",
       "      <td>44984355</td>\n",
       "      <td>2009-08-24 21:45:00.00000061</td>\n",
       "      <td>12.9</td>\n",
       "      <td>2009-08-24 21:45:00 UTC</td>\n",
       "      <td>-74.005043</td>\n",
       "      <td>40.740770</td>\n",
       "      <td>-73.962565</td>\n",
       "      <td>40.772647</td>\n",
       "      <td>1</td>\n",
       "    </tr>\n",
       "    <tr>\n",
       "      <th>3</th>\n",
       "      <td>25894730</td>\n",
       "      <td>2009-06-26 08:22:21.0000001</td>\n",
       "      <td>5.3</td>\n",
       "      <td>2009-06-26 08:22:21 UTC</td>\n",
       "      <td>-73.976124</td>\n",
       "      <td>40.790844</td>\n",
       "      <td>-73.965316</td>\n",
       "      <td>40.803349</td>\n",
       "      <td>3</td>\n",
       "    </tr>\n",
       "    <tr>\n",
       "      <th>4</th>\n",
       "      <td>17610152</td>\n",
       "      <td>2014-08-28 17:47:00.000000188</td>\n",
       "      <td>16.0</td>\n",
       "      <td>2014-08-28 17:47:00 UTC</td>\n",
       "      <td>-73.925023</td>\n",
       "      <td>40.744085</td>\n",
       "      <td>-73.973082</td>\n",
       "      <td>40.761247</td>\n",
       "      <td>5</td>\n",
       "    </tr>\n",
       "  </tbody>\n",
       "</table>\n",
       "</div>"
      ],
      "text/plain": [
       "   Unnamed: 0                            key  fare_amount  \\\n",
       "0    24238194    2015-05-07 19:52:06.0000003          7.5   \n",
       "1    27835199    2009-07-17 20:04:56.0000002          7.7   \n",
       "2    44984355   2009-08-24 21:45:00.00000061         12.9   \n",
       "3    25894730    2009-06-26 08:22:21.0000001          5.3   \n",
       "4    17610152  2014-08-28 17:47:00.000000188         16.0   \n",
       "\n",
       "           pickup_datetime  pickup_longitude  pickup_latitude  \\\n",
       "0  2015-05-07 19:52:06 UTC        -73.999817        40.738354   \n",
       "1  2009-07-17 20:04:56 UTC        -73.994355        40.728225   \n",
       "2  2009-08-24 21:45:00 UTC        -74.005043        40.740770   \n",
       "3  2009-06-26 08:22:21 UTC        -73.976124        40.790844   \n",
       "4  2014-08-28 17:47:00 UTC        -73.925023        40.744085   \n",
       "\n",
       "   dropoff_longitude  dropoff_latitude  passenger_count  \n",
       "0         -73.999512         40.723217                1  \n",
       "1         -73.994710         40.750325                1  \n",
       "2         -73.962565         40.772647                1  \n",
       "3         -73.965316         40.803349                3  \n",
       "4         -73.973082         40.761247                5  "
      ]
     },
     "execution_count": 6,
     "metadata": {},
     "output_type": "execute_result"
    }
   ],
   "source": [
    "fare_data.head()"
   ]
  },
  {
   "cell_type": "markdown",
   "id": "7dd26dd9",
   "metadata": {},
   "source": [
    "Only two column with missing data, i.e, dropoff_longitude and dropoff_latitude"
   ]
  },
  {
   "cell_type": "markdown",
   "id": "6e0e6f7e",
   "metadata": {},
   "source": [
    "Mix of numerical and categorical variables:\n",
    "- Numerical Variables:\n",
    "    - pickup_datetime\n",
    "    - pickup_latitude\n",
    "    - pickup_longitude\n",
    "    - dropoff_latitude\n",
    "    - dropoff_longitude\n",
    "- Categorical Variables:\n",
    "    - passanger_count"
   ]
  },
  {
   "cell_type": "markdown",
   "id": "9a710384",
   "metadata": {},
   "source": [
    "Target variable is fare_amount"
   ]
  },
  {
   "cell_type": "code",
   "execution_count": 7,
   "id": "c48f9a25",
   "metadata": {},
   "outputs": [],
   "source": [
    "data = fare_data"
   ]
  },
  {
   "cell_type": "code",
   "execution_count": 8,
   "id": "b232fa55",
   "metadata": {},
   "outputs": [
    {
     "data": {
      "text/plain": [
       "Unnamed: 0           200000\n",
       "key                  200000\n",
       "fare_amount            1244\n",
       "pickup_datetime      196629\n",
       "pickup_longitude      71066\n",
       "pickup_latitude       83835\n",
       "dropoff_longitude     76894\n",
       "dropoff_latitude      90585\n",
       "passenger_count           8\n",
       "dtype: int64"
      ]
     },
     "execution_count": 8,
     "metadata": {},
     "output_type": "execute_result"
    }
   ],
   "source": [
    "data.nunique()"
   ]
  },
  {
   "cell_type": "code",
   "execution_count": null,
   "id": "7012c112",
   "metadata": {},
   "outputs": [],
   "source": []
  },
  {
   "cell_type": "code",
   "execution_count": 9,
   "id": "ee710b94",
   "metadata": {},
   "outputs": [
    {
     "name": "stdout",
     "output_type": "stream",
     "text": [
      "<class 'pandas.core.frame.DataFrame'>\n",
      "RangeIndex: 200000 entries, 0 to 199999\n",
      "Data columns (total 9 columns):\n",
      " #   Column             Non-Null Count   Dtype  \n",
      "---  ------             --------------   -----  \n",
      " 0   Unnamed: 0         200000 non-null  int64  \n",
      " 1   key                200000 non-null  object \n",
      " 2   fare_amount        200000 non-null  float64\n",
      " 3   pickup_datetime    200000 non-null  object \n",
      " 4   pickup_longitude   200000 non-null  float64\n",
      " 5   pickup_latitude    200000 non-null  float64\n",
      " 6   dropoff_longitude  199999 non-null  float64\n",
      " 7   dropoff_latitude   199999 non-null  float64\n",
      " 8   passenger_count    200000 non-null  int64  \n",
      "dtypes: float64(5), int64(2), object(2)\n",
      "memory usage: 13.7+ MB\n"
     ]
    }
   ],
   "source": [
    "data.info()"
   ]
  },
  {
   "cell_type": "markdown",
   "id": "4fa450df",
   "metadata": {},
   "source": [
    "dropoff_longitude and dropoff_latitude have one missing row. We need to exclude this"
   ]
  },
  {
   "cell_type": "code",
   "execution_count": 10,
   "id": "45b3d4c9",
   "metadata": {},
   "outputs": [
    {
     "data": {
      "text/plain": [
       "Unnamed: 0           200000\n",
       "key                  200000\n",
       "fare_amount            1244\n",
       "pickup_datetime      196629\n",
       "pickup_longitude      71066\n",
       "pickup_latitude       83835\n",
       "dropoff_longitude     76894\n",
       "dropoff_latitude      90585\n",
       "passenger_count           8\n",
       "dtype: int64"
      ]
     },
     "execution_count": 10,
     "metadata": {},
     "output_type": "execute_result"
    }
   ],
   "source": [
    "data.nunique()"
   ]
  },
  {
   "cell_type": "code",
   "execution_count": 11,
   "id": "46d4110a",
   "metadata": {},
   "outputs": [],
   "source": [
    "# Dropping the columns 'Unnamed: 0' and 'key' as well as NA rows\n",
    "\n",
    "data = data.drop(['Unnamed: 0','key'],axis=1)\n",
    "data.dropna(axis=0,inplace=True)"
   ]
  },
  {
   "cell_type": "markdown",
   "id": "38ed625a",
   "metadata": {},
   "source": [
    "# Exploratory Data Analysis (EDA) and Data Pre-processing"
   ]
  },
  {
   "cell_type": "code",
   "execution_count": 12,
   "id": "ab93f628",
   "metadata": {},
   "outputs": [
    {
     "data": {
      "text/html": [
       "<div>\n",
       "<style scoped>\n",
       "    .dataframe tbody tr th:only-of-type {\n",
       "        vertical-align: middle;\n",
       "    }\n",
       "\n",
       "    .dataframe tbody tr th {\n",
       "        vertical-align: top;\n",
       "    }\n",
       "\n",
       "    .dataframe thead th {\n",
       "        text-align: right;\n",
       "    }\n",
       "</style>\n",
       "<table border=\"1\" class=\"dataframe\">\n",
       "  <thead>\n",
       "    <tr style=\"text-align: right;\">\n",
       "      <th></th>\n",
       "      <th>count</th>\n",
       "      <th>mean</th>\n",
       "      <th>std</th>\n",
       "      <th>min</th>\n",
       "      <th>25%</th>\n",
       "      <th>50%</th>\n",
       "      <th>75%</th>\n",
       "      <th>max</th>\n",
       "    </tr>\n",
       "  </thead>\n",
       "  <tbody>\n",
       "    <tr>\n",
       "      <th>fare_amount</th>\n",
       "      <td>199999.0</td>\n",
       "      <td>11.359892</td>\n",
       "      <td>9.901760</td>\n",
       "      <td>-52.000000</td>\n",
       "      <td>6.000000</td>\n",
       "      <td>8.500000</td>\n",
       "      <td>12.500000</td>\n",
       "      <td>499.000000</td>\n",
       "    </tr>\n",
       "    <tr>\n",
       "      <th>pickup_longitude</th>\n",
       "      <td>199999.0</td>\n",
       "      <td>-72.527631</td>\n",
       "      <td>11.437815</td>\n",
       "      <td>-1340.648410</td>\n",
       "      <td>-73.992065</td>\n",
       "      <td>-73.981823</td>\n",
       "      <td>-73.967154</td>\n",
       "      <td>57.418457</td>\n",
       "    </tr>\n",
       "    <tr>\n",
       "      <th>pickup_latitude</th>\n",
       "      <td>199999.0</td>\n",
       "      <td>39.935881</td>\n",
       "      <td>7.720558</td>\n",
       "      <td>-74.015515</td>\n",
       "      <td>40.734796</td>\n",
       "      <td>40.752592</td>\n",
       "      <td>40.767158</td>\n",
       "      <td>1644.421482</td>\n",
       "    </tr>\n",
       "    <tr>\n",
       "      <th>dropoff_longitude</th>\n",
       "      <td>199999.0</td>\n",
       "      <td>-72.525292</td>\n",
       "      <td>13.117408</td>\n",
       "      <td>-3356.666300</td>\n",
       "      <td>-73.991407</td>\n",
       "      <td>-73.980093</td>\n",
       "      <td>-73.963658</td>\n",
       "      <td>1153.572603</td>\n",
       "    </tr>\n",
       "    <tr>\n",
       "      <th>dropoff_latitude</th>\n",
       "      <td>199999.0</td>\n",
       "      <td>39.923890</td>\n",
       "      <td>6.794829</td>\n",
       "      <td>-881.985513</td>\n",
       "      <td>40.733823</td>\n",
       "      <td>40.753042</td>\n",
       "      <td>40.768001</td>\n",
       "      <td>872.697628</td>\n",
       "    </tr>\n",
       "    <tr>\n",
       "      <th>passenger_count</th>\n",
       "      <td>199999.0</td>\n",
       "      <td>1.684543</td>\n",
       "      <td>1.385995</td>\n",
       "      <td>0.000000</td>\n",
       "      <td>1.000000</td>\n",
       "      <td>1.000000</td>\n",
       "      <td>2.000000</td>\n",
       "      <td>208.000000</td>\n",
       "    </tr>\n",
       "  </tbody>\n",
       "</table>\n",
       "</div>"
      ],
      "text/plain": [
       "                      count       mean        std          min        25%  \\\n",
       "fare_amount        199999.0  11.359892   9.901760   -52.000000   6.000000   \n",
       "pickup_longitude   199999.0 -72.527631  11.437815 -1340.648410 -73.992065   \n",
       "pickup_latitude    199999.0  39.935881   7.720558   -74.015515  40.734796   \n",
       "dropoff_longitude  199999.0 -72.525292  13.117408 -3356.666300 -73.991407   \n",
       "dropoff_latitude   199999.0  39.923890   6.794829  -881.985513  40.733823   \n",
       "passenger_count    199999.0   1.684543   1.385995     0.000000   1.000000   \n",
       "\n",
       "                         50%        75%          max  \n",
       "fare_amount         8.500000  12.500000   499.000000  \n",
       "pickup_longitude  -73.981823 -73.967154    57.418457  \n",
       "pickup_latitude    40.752592  40.767158  1644.421482  \n",
       "dropoff_longitude -73.980093 -73.963658  1153.572603  \n",
       "dropoff_latitude   40.753042  40.768001   872.697628  \n",
       "passenger_count     1.000000   2.000000   208.000000  "
      ]
     },
     "execution_count": 12,
     "metadata": {},
     "output_type": "execute_result"
    }
   ],
   "source": [
    "data.describe().T"
   ]
  },
  {
   "cell_type": "markdown",
   "id": "7651de76",
   "metadata": {},
   "source": [
    "Possibility of some outliers in fare amount and passanger\n",
    "\n",
    "Outliers:\n",
    "- Fare Amount is between -52 to 499. The negative amount seems unrealistic. Base fare to be set at $2.5\n",
    "- Passanger count max is 208, which is also not possible. Max to be set at 5"
   ]
  },
  {
   "cell_type": "markdown",
   "id": "8e0a4974",
   "metadata": {},
   "source": [
    "### Identifying Correlations"
   ]
  },
  {
   "cell_type": "code",
   "execution_count": 13,
   "id": "e727d8fc",
   "metadata": {},
   "outputs": [
    {
     "data": {
      "text/html": [
       "<div>\n",
       "<style scoped>\n",
       "    .dataframe tbody tr th:only-of-type {\n",
       "        vertical-align: middle;\n",
       "    }\n",
       "\n",
       "    .dataframe tbody tr th {\n",
       "        vertical-align: top;\n",
       "    }\n",
       "\n",
       "    .dataframe thead th {\n",
       "        text-align: right;\n",
       "    }\n",
       "</style>\n",
       "<table border=\"1\" class=\"dataframe\">\n",
       "  <thead>\n",
       "    <tr style=\"text-align: right;\">\n",
       "      <th></th>\n",
       "      <th>fare_amount</th>\n",
       "      <th>pickup_longitude</th>\n",
       "      <th>pickup_latitude</th>\n",
       "      <th>dropoff_longitude</th>\n",
       "      <th>dropoff_latitude</th>\n",
       "      <th>passenger_count</th>\n",
       "    </tr>\n",
       "  </thead>\n",
       "  <tbody>\n",
       "    <tr>\n",
       "      <th>fare_amount</th>\n",
       "      <td>1.000000</td>\n",
       "      <td>0.010458</td>\n",
       "      <td>-0.008482</td>\n",
       "      <td>0.008986</td>\n",
       "      <td>-0.011014</td>\n",
       "      <td>0.010158</td>\n",
       "    </tr>\n",
       "    <tr>\n",
       "      <th>pickup_longitude</th>\n",
       "      <td>0.010458</td>\n",
       "      <td>1.000000</td>\n",
       "      <td>-0.816461</td>\n",
       "      <td>0.833026</td>\n",
       "      <td>-0.846324</td>\n",
       "      <td>-0.000415</td>\n",
       "    </tr>\n",
       "    <tr>\n",
       "      <th>pickup_latitude</th>\n",
       "      <td>-0.008482</td>\n",
       "      <td>-0.816461</td>\n",
       "      <td>1.000000</td>\n",
       "      <td>-0.774787</td>\n",
       "      <td>0.702367</td>\n",
       "      <td>-0.001559</td>\n",
       "    </tr>\n",
       "    <tr>\n",
       "      <th>dropoff_longitude</th>\n",
       "      <td>0.008986</td>\n",
       "      <td>0.833026</td>\n",
       "      <td>-0.774787</td>\n",
       "      <td>1.000000</td>\n",
       "      <td>-0.917010</td>\n",
       "      <td>0.000033</td>\n",
       "    </tr>\n",
       "    <tr>\n",
       "      <th>dropoff_latitude</th>\n",
       "      <td>-0.011014</td>\n",
       "      <td>-0.846324</td>\n",
       "      <td>0.702367</td>\n",
       "      <td>-0.917010</td>\n",
       "      <td>1.000000</td>\n",
       "      <td>-0.000659</td>\n",
       "    </tr>\n",
       "    <tr>\n",
       "      <th>passenger_count</th>\n",
       "      <td>0.010158</td>\n",
       "      <td>-0.000415</td>\n",
       "      <td>-0.001559</td>\n",
       "      <td>0.000033</td>\n",
       "      <td>-0.000659</td>\n",
       "      <td>1.000000</td>\n",
       "    </tr>\n",
       "  </tbody>\n",
       "</table>\n",
       "</div>"
      ],
      "text/plain": [
       "                   fare_amount  pickup_longitude  pickup_latitude  \\\n",
       "fare_amount           1.000000          0.010458        -0.008482   \n",
       "pickup_longitude      0.010458          1.000000        -0.816461   \n",
       "pickup_latitude      -0.008482         -0.816461         1.000000   \n",
       "dropoff_longitude     0.008986          0.833026        -0.774787   \n",
       "dropoff_latitude     -0.011014         -0.846324         0.702367   \n",
       "passenger_count       0.010158         -0.000415        -0.001559   \n",
       "\n",
       "                   dropoff_longitude  dropoff_latitude  passenger_count  \n",
       "fare_amount                 0.008986         -0.011014         0.010158  \n",
       "pickup_longitude            0.833026         -0.846324        -0.000415  \n",
       "pickup_latitude            -0.774787          0.702367        -0.001559  \n",
       "dropoff_longitude           1.000000         -0.917010         0.000033  \n",
       "dropoff_latitude           -0.917010          1.000000        -0.000659  \n",
       "passenger_count             0.000033         -0.000659         1.000000  "
      ]
     },
     "execution_count": 13,
     "metadata": {},
     "output_type": "execute_result"
    }
   ],
   "source": [
    "# Identify Correlation\n",
    "data.corr()"
   ]
  },
  {
   "cell_type": "code",
   "execution_count": 14,
   "id": "409244fb",
   "metadata": {},
   "outputs": [
    {
     "data": {
      "text/plain": [
       "<AxesSubplot:>"
      ]
     },
     "execution_count": 14,
     "metadata": {},
     "output_type": "execute_result"
    },
    {
     "data": {
      "image/png": "[encoded data removed]",
      "text/plain": [
       "<Figure size 1500x1000 with 2 Axes>"
      ]
     },
     "metadata": {},
     "output_type": "display_data"
    }
   ],
   "source": [
    "# Plot the Correlation matrix\n",
    "plt.figure(figsize=(15,10))\n",
    "sns.heatmap(data.corr(), annot=True, linewidths=.5, vmin = -1, vmax = 1, fmt = '.2g')"
   ]
  },
  {
   "cell_type": "markdown",
   "id": "e46151a5",
   "metadata": {},
   "source": [
    "High correlation can be observed between the geo-spatial data points, which was expected. Therefore, there is no need to drop any of the independent variables"
   ]
  },
  {
   "cell_type": "code",
   "execution_count": null,
   "id": "cc10be02",
   "metadata": {},
   "outputs": [],
   "source": []
  },
  {
   "cell_type": "code",
   "execution_count": 15,
   "id": "633cbc2a",
   "metadata": {},
   "outputs": [],
   "source": [
    "from math import *"
   ]
  },
  {
   "cell_type": "code",
   "execution_count": 16,
   "id": "f25784e7",
   "metadata": {},
   "outputs": [],
   "source": [
    "# Define formula to calculate haversine distance\n",
    "def distance(longitude1, latitude1, longitude2, latitude2):\n",
    "    travel_dist = []\n",
    "    \n",
    "    for pos in range(len(longitude1)):\n",
    "        long1,lati1,long2,lati2 = map(radians,[longitude1[pos],latitude1[pos],longitude2[pos],latitude2[pos]])\n",
    "        dist_long = long2 - long1\n",
    "        dist_lati = lati2 - lati1\n",
    "        a = sin(dist_lati/2)**2 + cos(lati1) * cos(lati2) * sin(dist_long/2)**2\n",
    "        c = 2 * asin(sqrt(a))*6371\n",
    "        travel_dist.append(c)\n",
    "       \n",
    "    return travel_dist"
   ]
  },
  {
   "cell_type": "code",
   "execution_count": 17,
   "id": "97b437b3",
   "metadata": {},
   "outputs": [],
   "source": [
    "# Calculate Haversine distance for each row and add distance in km as a new column\n",
    "data['distance_travelled'] = distance(data['pickup_longitude'].to_numpy(),\n",
    "                                                data['pickup_latitude'].to_numpy(),\n",
    "                                                data['dropoff_longitude'].to_numpy(),\n",
    "                                                data['dropoff_latitude'].to_numpy()\n",
    "                                              )"
   ]
  },
  {
   "cell_type": "code",
   "execution_count": null,
   "id": "55d54417",
   "metadata": {},
   "outputs": [],
   "source": []
  },
  {
   "cell_type": "code",
   "execution_count": 18,
   "id": "c23f900c",
   "metadata": {},
   "outputs": [
    {
     "name": "stdout",
     "output_type": "stream",
     "text": [
      "<class 'pandas.core.frame.DataFrame'>\n",
      "Int64Index: 199999 entries, 0 to 199999\n",
      "Data columns (total 8 columns):\n",
      " #   Column              Non-Null Count   Dtype  \n",
      "---  ------              --------------   -----  \n",
      " 0   fare_amount         199999 non-null  float64\n",
      " 1   pickup_datetime     199999 non-null  object \n",
      " 2   pickup_longitude    199999 non-null  float64\n",
      " 3   pickup_latitude     199999 non-null  float64\n",
      " 4   dropoff_longitude   199999 non-null  float64\n",
      " 5   dropoff_latitude    199999 non-null  float64\n",
      " 6   passenger_count     199999 non-null  int64  \n",
      " 7   distance_travelled  199999 non-null  float64\n",
      "dtypes: float64(6), int64(1), object(1)\n",
      "memory usage: 13.7+ MB\n"
     ]
    }
   ],
   "source": [
    "data.info()"
   ]
  },
  {
   "cell_type": "code",
   "execution_count": 19,
   "id": "84405ad3",
   "metadata": {},
   "outputs": [],
   "source": [
    "# As we can see, pickup_datetime is being read as an object data type. However, we need to convert it into datetime data type\n",
    "data['pickup_datetime']  = pd.to_datetime(data['pickup_datetime'])"
   ]
  },
  {
   "cell_type": "code",
   "execution_count": 20,
   "id": "6ccdaa34",
   "metadata": {},
   "outputs": [
    {
     "name": "stdout",
     "output_type": "stream",
     "text": [
      "<class 'pandas.core.frame.DataFrame'>\n",
      "Int64Index: 199999 entries, 0 to 199999\n",
      "Data columns (total 8 columns):\n",
      " #   Column              Non-Null Count   Dtype              \n",
      "---  ------              --------------   -----              \n",
      " 0   fare_amount         199999 non-null  float64            \n",
      " 1   pickup_datetime     199999 non-null  datetime64[ns, UTC]\n",
      " 2   pickup_longitude    199999 non-null  float64            \n",
      " 3   pickup_latitude     199999 non-null  float64            \n",
      " 4   dropoff_longitude   199999 non-null  float64            \n",
      " 5   dropoff_latitude    199999 non-null  float64            \n",
      " 6   passenger_count     199999 non-null  int64              \n",
      " 7   distance_travelled  199999 non-null  float64            \n",
      "dtypes: datetime64[ns, UTC](1), float64(6), int64(1)\n",
      "memory usage: 13.7 MB\n"
     ]
    }
   ],
   "source": [
    "data.info()"
   ]
  },
  {
   "cell_type": "code",
   "execution_count": 21,
   "id": "305f63b1",
   "metadata": {},
   "outputs": [],
   "source": [
    "# From pickup_datetime extract date, month, year, weekday and dayname\n",
    "from datetime import datetime\n",
    "\n",
    "data['date'] = pd.to_datetime(data['pickup_datetime']).dt.date\n",
    "data['month'] = pd.to_datetime(data['pickup_datetime']).dt.month\n",
    "data['year'] = pd.to_datetime(data['pickup_datetime']).dt.year\n",
    "data['day_of_the_week'] = pd.to_datetime(data['pickup_datetime']).dt.weekday\n",
    "data['day_name'] = pd.to_datetime(data['pickup_datetime']).dt.day_name()\n",
    "data['pickup_time'] = pd.to_datetime(data['pickup_datetime']).dt.time\n",
    "data['pickup_hour'] = pd.to_datetime(data['pickup_datetime']).dt.hour"
   ]
  },
  {
   "cell_type": "code",
   "execution_count": 22,
   "id": "d6a240ec",
   "metadata": {
    "scrolled": true
   },
   "outputs": [
    {
     "name": "stdout",
     "output_type": "stream",
     "text": [
      "<class 'pandas.core.frame.DataFrame'>\n",
      "Int64Index: 199999 entries, 0 to 199999\n",
      "Data columns (total 15 columns):\n",
      " #   Column              Non-Null Count   Dtype              \n",
      "---  ------              --------------   -----              \n",
      " 0   fare_amount         199999 non-null  float64            \n",
      " 1   pickup_datetime     199999 non-null  datetime64[ns, UTC]\n",
      " 2   pickup_longitude    199999 non-null  float64            \n",
      " 3   pickup_latitude     199999 non-null  float64            \n",
      " 4   dropoff_longitude   199999 non-null  float64            \n",
      " 5   dropoff_latitude    199999 non-null  float64            \n",
      " 6   passenger_count     199999 non-null  int64              \n",
      " 7   distance_travelled  199999 non-null  float64            \n",
      " 8   date                199999 non-null  object             \n",
      " 9   month               199999 non-null  int64              \n",
      " 10  year                199999 non-null  int64              \n",
      " 11  day_of_the_week     199999 non-null  int64              \n",
      " 12  day_name            199999 non-null  object             \n",
      " 13  pickup_time         199999 non-null  object             \n",
      " 14  pickup_hour         199999 non-null  int64              \n",
      "dtypes: datetime64[ns, UTC](1), float64(6), int64(5), object(3)\n",
      "memory usage: 24.4+ MB\n"
     ]
    }
   ],
   "source": [
    "data.info()"
   ]
  },
  {
   "cell_type": "code",
   "execution_count": null,
   "id": "b3cef102",
   "metadata": {},
   "outputs": [],
   "source": []
  },
  {
   "cell_type": "markdown",
   "id": "ad4107c8",
   "metadata": {},
   "source": [
    "### Outlier Treatment"
   ]
  },
  {
   "cell_type": "markdown",
   "id": "6d583bba",
   "metadata": {},
   "source": [
    "The following treatment is being done to outliers:\n",
    "- passanger_count should be less than 5\n",
    "- rows with passanger_count = 0 should be dropped\n",
    "- fare_amount should be kept to the minimum set by Uber, i.e., $2.5\n",
    "- distance should be maximum 130 km\n",
    "- distance travelled cannot be zero. Rows with distance = 0 must be dropped"
   ]
  },
  {
   "cell_type": "code",
   "execution_count": 23,
   "id": "d9821fcd",
   "metadata": {},
   "outputs": [],
   "source": [
    "data.drop(data[data['passenger_count'] > 5].index, axis=0, inplace = True)\n",
    "data.drop(data[data['passenger_count'] == 0].index, axis=0, inplace = True)\n",
    "data.drop(data[data['fare_amount'] < 2.5].index, axis=0, inplace = True)\n",
    "data.drop(data[data['distance_travelled'] > 130].index, axis=0, inplace = True)\n",
    "data.drop(data[data['distance_travelled'] == 0].index, axis=0, inplace = True)\n",
    "data.dropna(axis=0,inplace=True)"
   ]
  },
  {
   "cell_type": "code",
   "execution_count": 24,
   "id": "c106ca1c",
   "metadata": {},
   "outputs": [
    {
     "data": {
      "text/html": [
       "<div>\n",
       "<style scoped>\n",
       "    .dataframe tbody tr th:only-of-type {\n",
       "        vertical-align: middle;\n",
       "    }\n",
       "\n",
       "    .dataframe tbody tr th {\n",
       "        vertical-align: top;\n",
       "    }\n",
       "\n",
       "    .dataframe thead th {\n",
       "        text-align: right;\n",
       "    }\n",
       "</style>\n",
       "<table border=\"1\" class=\"dataframe\">\n",
       "  <thead>\n",
       "    <tr style=\"text-align: right;\">\n",
       "      <th></th>\n",
       "      <th>fare_amount</th>\n",
       "      <th>pickup_datetime</th>\n",
       "      <th>pickup_longitude</th>\n",
       "      <th>pickup_latitude</th>\n",
       "      <th>dropoff_longitude</th>\n",
       "      <th>dropoff_latitude</th>\n",
       "      <th>passenger_count</th>\n",
       "      <th>distance_travelled</th>\n",
       "      <th>date</th>\n",
       "      <th>month</th>\n",
       "      <th>year</th>\n",
       "      <th>day_of_the_week</th>\n",
       "      <th>day_name</th>\n",
       "      <th>pickup_time</th>\n",
       "      <th>pickup_hour</th>\n",
       "    </tr>\n",
       "  </thead>\n",
       "  <tbody>\n",
       "    <tr>\n",
       "      <th>0</th>\n",
       "      <td>7.5</td>\n",
       "      <td>2015-05-07 19:52:06+00:00</td>\n",
       "      <td>-73.999817</td>\n",
       "      <td>40.738354</td>\n",
       "      <td>-73.999512</td>\n",
       "      <td>40.723217</td>\n",
       "      <td>1</td>\n",
       "      <td>1.683323</td>\n",
       "      <td>2015-05-07</td>\n",
       "      <td>5</td>\n",
       "      <td>2015</td>\n",
       "      <td>3</td>\n",
       "      <td>Thursday</td>\n",
       "      <td>19:52:06</td>\n",
       "      <td>19</td>\n",
       "    </tr>\n",
       "    <tr>\n",
       "      <th>1</th>\n",
       "      <td>7.7</td>\n",
       "      <td>2009-07-17 20:04:56+00:00</td>\n",
       "      <td>-73.994355</td>\n",
       "      <td>40.728225</td>\n",
       "      <td>-73.994710</td>\n",
       "      <td>40.750325</td>\n",
       "      <td>1</td>\n",
       "      <td>2.457590</td>\n",
       "      <td>2009-07-17</td>\n",
       "      <td>7</td>\n",
       "      <td>2009</td>\n",
       "      <td>4</td>\n",
       "      <td>Friday</td>\n",
       "      <td>20:04:56</td>\n",
       "      <td>20</td>\n",
       "    </tr>\n",
       "    <tr>\n",
       "      <th>2</th>\n",
       "      <td>12.9</td>\n",
       "      <td>2009-08-24 21:45:00+00:00</td>\n",
       "      <td>-74.005043</td>\n",
       "      <td>40.740770</td>\n",
       "      <td>-73.962565</td>\n",
       "      <td>40.772647</td>\n",
       "      <td>1</td>\n",
       "      <td>5.036377</td>\n",
       "      <td>2009-08-24</td>\n",
       "      <td>8</td>\n",
       "      <td>2009</td>\n",
       "      <td>0</td>\n",
       "      <td>Monday</td>\n",
       "      <td>21:45:00</td>\n",
       "      <td>21</td>\n",
       "    </tr>\n",
       "    <tr>\n",
       "      <th>3</th>\n",
       "      <td>5.3</td>\n",
       "      <td>2009-06-26 08:22:21+00:00</td>\n",
       "      <td>-73.976124</td>\n",
       "      <td>40.790844</td>\n",
       "      <td>-73.965316</td>\n",
       "      <td>40.803349</td>\n",
       "      <td>3</td>\n",
       "      <td>1.661683</td>\n",
       "      <td>2009-06-26</td>\n",
       "      <td>6</td>\n",
       "      <td>2009</td>\n",
       "      <td>4</td>\n",
       "      <td>Friday</td>\n",
       "      <td>08:22:21</td>\n",
       "      <td>8</td>\n",
       "    </tr>\n",
       "    <tr>\n",
       "      <th>4</th>\n",
       "      <td>16.0</td>\n",
       "      <td>2014-08-28 17:47:00+00:00</td>\n",
       "      <td>-73.925023</td>\n",
       "      <td>40.744085</td>\n",
       "      <td>-73.973082</td>\n",
       "      <td>40.761247</td>\n",
       "      <td>5</td>\n",
       "      <td>4.475450</td>\n",
       "      <td>2014-08-28</td>\n",
       "      <td>8</td>\n",
       "      <td>2014</td>\n",
       "      <td>3</td>\n",
       "      <td>Thursday</td>\n",
       "      <td>17:47:00</td>\n",
       "      <td>17</td>\n",
       "    </tr>\n",
       "  </tbody>\n",
       "</table>\n",
       "</div>"
      ],
      "text/plain": [
       "   fare_amount           pickup_datetime  pickup_longitude  pickup_latitude  \\\n",
       "0          7.5 2015-05-07 19:52:06+00:00        -73.999817        40.738354   \n",
       "1          7.7 2009-07-17 20:04:56+00:00        -73.994355        40.728225   \n",
       "2         12.9 2009-08-24 21:45:00+00:00        -74.005043        40.740770   \n",
       "3          5.3 2009-06-26 08:22:21+00:00        -73.976124        40.790844   \n",
       "4         16.0 2014-08-28 17:47:00+00:00        -73.925023        40.744085   \n",
       "\n",
       "   dropoff_longitude  dropoff_latitude  passenger_count  distance_travelled  \\\n",
       "0         -73.999512         40.723217                1            1.683323   \n",
       "1         -73.994710         40.750325                1            2.457590   \n",
       "2         -73.962565         40.772647                1            5.036377   \n",
       "3         -73.965316         40.803349                3            1.661683   \n",
       "4         -73.973082         40.761247                5            4.475450   \n",
       "\n",
       "         date  month  year  day_of_the_week  day_name pickup_time  pickup_hour  \n",
       "0  2015-05-07      5  2015                3  Thursday    19:52:06           19  \n",
       "1  2009-07-17      7  2009                4    Friday    20:04:56           20  \n",
       "2  2009-08-24      8  2009                0    Monday    21:45:00           21  \n",
       "3  2009-06-26      6  2009                4    Friday    08:22:21            8  \n",
       "4  2014-08-28      8  2014                3  Thursday    17:47:00           17  "
      ]
     },
     "execution_count": 24,
     "metadata": {},
     "output_type": "execute_result"
    }
   ],
   "source": [
    "data.head()"
   ]
  },
  {
   "cell_type": "code",
   "execution_count": 25,
   "id": "6e32f773",
   "metadata": {
    "scrolled": true
   },
   "outputs": [
    {
     "data": {
      "text/html": [
       "<div>\n",
       "<style scoped>\n",
       "    .dataframe tbody tr th:only-of-type {\n",
       "        vertical-align: middle;\n",
       "    }\n",
       "\n",
       "    .dataframe tbody tr th {\n",
       "        vertical-align: top;\n",
       "    }\n",
       "\n",
       "    .dataframe thead th {\n",
       "        text-align: right;\n",
       "    }\n",
       "</style>\n",
       "<table border=\"1\" class=\"dataframe\">\n",
       "  <thead>\n",
       "    <tr style=\"text-align: right;\">\n",
       "      <th></th>\n",
       "      <th>count</th>\n",
       "      <th>mean</th>\n",
       "      <th>std</th>\n",
       "      <th>min</th>\n",
       "      <th>25%</th>\n",
       "      <th>50%</th>\n",
       "      <th>75%</th>\n",
       "      <th>max</th>\n",
       "    </tr>\n",
       "  </thead>\n",
       "  <tbody>\n",
       "    <tr>\n",
       "      <th>fare_amount</th>\n",
       "      <td>189061.0</td>\n",
       "      <td>11.336739</td>\n",
       "      <td>9.730745</td>\n",
       "      <td>2.500000</td>\n",
       "      <td>6.000000</td>\n",
       "      <td>8.500000</td>\n",
       "      <td>12.500000</td>\n",
       "      <td>499.000000</td>\n",
       "    </tr>\n",
       "    <tr>\n",
       "      <th>pickup_longitude</th>\n",
       "      <td>189061.0</td>\n",
       "      <td>-73.916225</td>\n",
       "      <td>2.560946</td>\n",
       "      <td>-75.419276</td>\n",
       "      <td>-73.992274</td>\n",
       "      <td>-73.982133</td>\n",
       "      <td>-73.968465</td>\n",
       "      <td>40.808425</td>\n",
       "    </tr>\n",
       "    <tr>\n",
       "      <th>pickup_latitude</th>\n",
       "      <td>189061.0</td>\n",
       "      <td>40.696089</td>\n",
       "      <td>2.634751</td>\n",
       "      <td>-74.015515</td>\n",
       "      <td>40.736440</td>\n",
       "      <td>40.753273</td>\n",
       "      <td>40.767532</td>\n",
       "      <td>401.066667</td>\n",
       "    </tr>\n",
       "    <tr>\n",
       "      <th>dropoff_longitude</th>\n",
       "      <td>189061.0</td>\n",
       "      <td>-73.915258</td>\n",
       "      <td>2.561027</td>\n",
       "      <td>-75.423067</td>\n",
       "      <td>-73.991594</td>\n",
       "      <td>-73.980564</td>\n",
       "      <td>-73.965513</td>\n",
       "      <td>40.831932</td>\n",
       "    </tr>\n",
       "    <tr>\n",
       "      <th>dropoff_latitude</th>\n",
       "      <td>189061.0</td>\n",
       "      <td>40.694481</td>\n",
       "      <td>2.501323</td>\n",
       "      <td>-74.015750</td>\n",
       "      <td>40.735345</td>\n",
       "      <td>40.753738</td>\n",
       "      <td>40.768327</td>\n",
       "      <td>45.031598</td>\n",
       "    </tr>\n",
       "    <tr>\n",
       "      <th>passenger_count</th>\n",
       "      <td>189061.0</td>\n",
       "      <td>1.595115</td>\n",
       "      <td>1.150926</td>\n",
       "      <td>1.000000</td>\n",
       "      <td>1.000000</td>\n",
       "      <td>1.000000</td>\n",
       "      <td>2.000000</td>\n",
       "      <td>5.000000</td>\n",
       "    </tr>\n",
       "    <tr>\n",
       "      <th>distance_travelled</th>\n",
       "      <td>189061.0</td>\n",
       "      <td>3.377859</td>\n",
       "      <td>3.984585</td>\n",
       "      <td>0.000084</td>\n",
       "      <td>1.279954</td>\n",
       "      <td>2.181325</td>\n",
       "      <td>3.938054</td>\n",
       "      <td>129.610094</td>\n",
       "    </tr>\n",
       "    <tr>\n",
       "      <th>month</th>\n",
       "      <td>189061.0</td>\n",
       "      <td>6.282337</td>\n",
       "      <td>3.439349</td>\n",
       "      <td>1.000000</td>\n",
       "      <td>3.000000</td>\n",
       "      <td>6.000000</td>\n",
       "      <td>9.000000</td>\n",
       "      <td>12.000000</td>\n",
       "    </tr>\n",
       "    <tr>\n",
       "      <th>year</th>\n",
       "      <td>189061.0</td>\n",
       "      <td>2011.719302</td>\n",
       "      <td>1.862527</td>\n",
       "      <td>2009.000000</td>\n",
       "      <td>2010.000000</td>\n",
       "      <td>2012.000000</td>\n",
       "      <td>2013.000000</td>\n",
       "      <td>2015.000000</td>\n",
       "    </tr>\n",
       "    <tr>\n",
       "      <th>day_of_the_week</th>\n",
       "      <td>189061.0</td>\n",
       "      <td>3.049095</td>\n",
       "      <td>1.946679</td>\n",
       "      <td>0.000000</td>\n",
       "      <td>1.000000</td>\n",
       "      <td>3.000000</td>\n",
       "      <td>5.000000</td>\n",
       "      <td>6.000000</td>\n",
       "    </tr>\n",
       "    <tr>\n",
       "      <th>pickup_hour</th>\n",
       "      <td>189061.0</td>\n",
       "      <td>13.489234</td>\n",
       "      <td>6.518660</td>\n",
       "      <td>0.000000</td>\n",
       "      <td>9.000000</td>\n",
       "      <td>14.000000</td>\n",
       "      <td>19.000000</td>\n",
       "      <td>23.000000</td>\n",
       "    </tr>\n",
       "  </tbody>\n",
       "</table>\n",
       "</div>"
      ],
      "text/plain": [
       "                       count         mean       std          min          25%  \\\n",
       "fare_amount         189061.0    11.336739  9.730745     2.500000     6.000000   \n",
       "pickup_longitude    189061.0   -73.916225  2.560946   -75.419276   -73.992274   \n",
       "pickup_latitude     189061.0    40.696089  2.634751   -74.015515    40.736440   \n",
       "dropoff_longitude   189061.0   -73.915258  2.561027   -75.423067   -73.991594   \n",
       "dropoff_latitude    189061.0    40.694481  2.501323   -74.015750    40.735345   \n",
       "passenger_count     189061.0     1.595115  1.150926     1.000000     1.000000   \n",
       "distance_travelled  189061.0     3.377859  3.984585     0.000084     1.279954   \n",
       "month               189061.0     6.282337  3.439349     1.000000     3.000000   \n",
       "year                189061.0  2011.719302  1.862527  2009.000000  2010.000000   \n",
       "day_of_the_week     189061.0     3.049095  1.946679     0.000000     1.000000   \n",
       "pickup_hour         189061.0    13.489234  6.518660     0.000000     9.000000   \n",
       "\n",
       "                            50%          75%          max  \n",
       "fare_amount            8.500000    12.500000   499.000000  \n",
       "pickup_longitude     -73.982133   -73.968465    40.808425  \n",
       "pickup_latitude       40.753273    40.767532   401.066667  \n",
       "dropoff_longitude    -73.980564   -73.965513    40.831932  \n",
       "dropoff_latitude      40.753738    40.768327    45.031598  \n",
       "passenger_count        1.000000     2.000000     5.000000  \n",
       "distance_travelled     2.181325     3.938054   129.610094  \n",
       "month                  6.000000     9.000000    12.000000  \n",
       "year                2012.000000  2013.000000  2015.000000  \n",
       "day_of_the_week        3.000000     5.000000     6.000000  \n",
       "pickup_hour           14.000000    19.000000    23.000000  "
      ]
     },
     "execution_count": 25,
     "metadata": {},
     "output_type": "execute_result"
    }
   ],
   "source": [
    "data.describe().T"
   ]
  },
  {
   "cell_type": "code",
   "execution_count": null,
   "id": "f0ad7001",
   "metadata": {},
   "outputs": [],
   "source": []
  },
  {
   "cell_type": "code",
   "execution_count": 26,
   "id": "8e45e228",
   "metadata": {},
   "outputs": [],
   "source": [
    "# Dropping the columns 'pickup datetime' and 'pickup hour' as we have extracted relvant pieces of information\n",
    "# from these columns and do not need these columns for our analysis now. Also, 'date' and 'day_name', month and yuear\n",
    "# as well as pickup and dropoff coordinates are not required as we have the required data extracted from them\n",
    "\n",
    "data = data.drop(['pickup_datetime','pickup_time', 'date', 'pickup_longitude', 'pickup_latitude',\n",
    "                  'dropoff_longitude', 'dropoff_latitude', 'day_name'],axis=1)"
   ]
  },
  {
   "cell_type": "code",
   "execution_count": 27,
   "id": "9eb309d7",
   "metadata": {},
   "outputs": [
    {
     "name": "stdout",
     "output_type": "stream",
     "text": [
      "<class 'pandas.core.frame.DataFrame'>\n",
      "Int64Index: 189061 entries, 0 to 199999\n",
      "Data columns (total 7 columns):\n",
      " #   Column              Non-Null Count   Dtype  \n",
      "---  ------              --------------   -----  \n",
      " 0   fare_amount         189061 non-null  float64\n",
      " 1   passenger_count     189061 non-null  int64  \n",
      " 2   distance_travelled  189061 non-null  float64\n",
      " 3   month               189061 non-null  int64  \n",
      " 4   year                189061 non-null  int64  \n",
      " 5   day_of_the_week     189061 non-null  int64  \n",
      " 6   pickup_hour         189061 non-null  int64  \n",
      "dtypes: float64(2), int64(5)\n",
      "memory usage: 11.5 MB\n"
     ]
    }
   ],
   "source": [
    "data.info()"
   ]
  },
  {
   "cell_type": "markdown",
   "id": "f0790580",
   "metadata": {},
   "source": [
    "# Numerical Features - Univariate Analysis"
   ]
  },
  {
   "cell_type": "markdown",
   "id": "5e868ace",
   "metadata": {},
   "source": [
    "## Boxplot & Histogram"
   ]
  },
  {
   "cell_type": "markdown",
   "id": "29503171",
   "metadata": {},
   "source": [
    "### Distance"
   ]
  },
  {
   "cell_type": "code",
   "execution_count": 28,
   "id": "87f85303",
   "metadata": {},
   "outputs": [
    {
     "data": {
      "text/plain": [
       "<AxesSubplot:xlabel='distance_travelled'>"
      ]
     },
     "execution_count": 28,
     "metadata": {},
     "output_type": "execute_result"
    },
    {
     "data": {
      "image/png": "[encoded data removed]",
      "text/plain": [
       "<Figure size 640x480 with 1 Axes>"
      ]
     },
     "metadata": {},
     "output_type": "display_data"
    }
   ],
   "source": [
    "sns.boxplot(x=data['distance_travelled'])"
   ]
  },
  {
   "cell_type": "code",
   "execution_count": 29,
   "id": "8efeb27d",
   "metadata": {},
   "outputs": [
    {
     "data": {
      "text/plain": [
       "<matplotlib.lines.Line2D at 0x23945fd8130>"
      ]
     },
     "execution_count": 29,
     "metadata": {},
     "output_type": "execute_result"
    },
    {
     "data": {
      "image/png": "[encoded data removed]",
      "text/plain": [
       "<Figure size 640x480 with 1 Axes>"
      ]
     },
     "metadata": {},
     "output_type": "display_data"
    }
   ],
   "source": [
    "import matplotlib.pyplot as plt\n",
    "hist = plt.hist(x=data['distance_travelled'], density = True)\n",
    "# Draw a vertical line in the histogram to visualize mean value of the numerical feature (NaNs will be ignored when calculating the mean)\n",
    "plt.axvline(data['distance_travelled'].mean(), color = 'red', linestyle='--')\n",
    "# Draw another vertical line in the histogram to visualize median value of the numerical feature (NaNs will be ignored when calculating the median)\n",
    "plt.axvline(data['distance_travelled'].median(), color = 'black', linestyle='-')"
   ]
  },
  {
   "cell_type": "markdown",
   "id": "939b2c25",
   "metadata": {},
   "source": [
    "Observations:\n",
    "- Negatively Skewed\n",
    "- Outliers on the left end\n",
    "- Mean and Median are close"
   ]
  },
  {
   "cell_type": "markdown",
   "id": "d8ae1da8",
   "metadata": {},
   "source": [
    "# Categorical Features - Univariate Analysis"
   ]
  },
  {
   "cell_type": "markdown",
   "id": "659b7fa3",
   "metadata": {},
   "source": [
    "### Passenger Count"
   ]
  },
  {
   "cell_type": "code",
   "execution_count": 30,
   "id": "d155dc98",
   "metadata": {
    "scrolled": true
   },
   "outputs": [
    {
     "data": {
      "text/plain": [
       "(array([0, 1, 2, 3, 4]),\n",
       " [Text(0, 0, '1'),\n",
       "  Text(1, 0, '2'),\n",
       "  Text(2, 0, '5'),\n",
       "  Text(3, 0, '3'),\n",
       "  Text(4, 0, '4')])"
      ]
     },
     "execution_count": 30,
     "metadata": {},
     "output_type": "execute_result"
    },
    {
     "data": {
      "image/png": "[encoded data removed]",
      "text/plain": [
       "<Figure size 640x480 with 1 Axes>"
      ]
     },
     "metadata": {},
     "output_type": "display_data"
    }
   ],
   "source": [
    "data['passenger_count'].value_counts(normalize = True).plot.bar()\n",
    "plt.xticks(rotation = 0)"
   ]
  },
  {
   "cell_type": "markdown",
   "id": "afded7c2",
   "metadata": {},
   "source": [
    "Observation:\n",
    "- Almost 70% of trips had only 1 passanger"
   ]
  },
  {
   "cell_type": "markdown",
   "id": "601b8413",
   "metadata": {},
   "source": [
    "### Day of the week"
   ]
  },
  {
   "cell_type": "code",
   "execution_count": 31,
   "id": "18efaa25",
   "metadata": {
    "scrolled": true
   },
   "outputs": [
    {
     "data": {
      "text/plain": [
       "(array([0, 1, 2, 3, 4, 5, 6]),\n",
       " [Text(0, 0, '4'),\n",
       "  Text(1, 0, '5'),\n",
       "  Text(2, 0, '3'),\n",
       "  Text(3, 0, '2'),\n",
       "  Text(4, 0, '1'),\n",
       "  Text(5, 0, '6'),\n",
       "  Text(6, 0, '0')])"
      ]
     },
     "execution_count": 31,
     "metadata": {},
     "output_type": "execute_result"
    },
    {
     "data": {
      "image/png": "[encoded data removed]",
      "text/plain": [
       "<Figure size 640x480 with 1 Axes>"
      ]
     },
     "metadata": {},
     "output_type": "display_data"
    }
   ],
   "source": [
    "data['day_of_the_week'].value_counts(normalize = True).plot.bar()\n",
    "plt.xticks(rotation = 0)"
   ]
  },
  {
   "cell_type": "markdown",
   "id": "d60da59f",
   "metadata": {},
   "source": [
    "Observation:\n",
    "- As expected, Friday (weekend eve) and Saturday had the highest number of trips"
   ]
  },
  {
   "cell_type": "markdown",
   "id": "12deb915",
   "metadata": {},
   "source": [
    "### Pickup Time"
   ]
  },
  {
   "cell_type": "code",
   "execution_count": 32,
   "id": "61eef6f5",
   "metadata": {
    "scrolled": true
   },
   "outputs": [
    {
     "data": {
      "text/plain": [
       "(array([ 0,  1,  2,  3,  4,  5,  6,  7,  8,  9, 10, 11, 12, 13, 14, 15, 16,\n",
       "        17, 18, 19, 20, 21, 22, 23]),\n",
       " [Text(0, 0, '19'),\n",
       "  Text(1, 0, '18'),\n",
       "  Text(2, 0, '20'),\n",
       "  Text(3, 0, '21'),\n",
       "  Text(4, 0, '22'),\n",
       "  Text(5, 0, '13'),\n",
       "  Text(6, 0, '12'),\n",
       "  Text(7, 0, '23'),\n",
       "  Text(8, 0, '14'),\n",
       "  Text(9, 0, '17'),\n",
       "  Text(10, 0, '15'),\n",
       "  Text(11, 0, '11'),\n",
       "  Text(12, 0, '9'),\n",
       "  Text(13, 0, '8'),\n",
       "  Text(14, 0, '10'),\n",
       "  Text(15, 0, '16'),\n",
       "  Text(16, 0, '0'),\n",
       "  Text(17, 0, '7'),\n",
       "  Text(18, 0, '1'),\n",
       "  Text(19, 0, '2'),\n",
       "  Text(20, 0, '6'),\n",
       "  Text(21, 0, '3'),\n",
       "  Text(22, 0, '4'),\n",
       "  Text(23, 0, '5')])"
      ]
     },
     "execution_count": 32,
     "metadata": {},
     "output_type": "execute_result"
    },
    {
     "data": {
      "image/png": "[encoded data removed]",
      "text/plain": [
       "<Figure size 640x480 with 1 Axes>"
      ]
     },
     "metadata": {},
     "output_type": "display_data"
    }
   ],
   "source": [
    "data['pickup_hour'].value_counts(normalize = True).plot.bar()\n",
    "plt.xticks(rotation = 0)"
   ]
  },
  {
   "cell_type": "markdown",
   "id": "3a0cb665",
   "metadata": {},
   "source": [
    "Observation:\n",
    "- AsThe number of trips are low during 1am - 5am, and peak between 7pm - 9pm"
   ]
  },
  {
   "cell_type": "code",
   "execution_count": null,
   "id": "dd98d29f",
   "metadata": {},
   "outputs": [],
   "source": []
  },
  {
   "cell_type": "code",
   "execution_count": 33,
   "id": "b00f7ec5",
   "metadata": {},
   "outputs": [
    {
     "data": {
      "text/plain": [
       "<AxesSubplot:title={'center':'Weekday Trips'}, xlabel='pickup_hour', ylabel='count'>"
      ]
     },
     "execution_count": 33,
     "metadata": {},
     "output_type": "execute_result"
    },
    {
     "data": {
      "image/png": "[encoded data removed]",
      "text/plain": [
       "<Figure size 1000x500 with 1 Axes>"
      ]
     },
     "metadata": {},
     "output_type": "display_data"
    }
   ],
   "source": [
    "# Countplot in day of the week to see peak hours\n",
    "plt.figure(figsize=(10,5))\n",
    "plt.title('Weekday Trips')\n",
    "sns.set_style(\"white\")\n",
    "#plot the countplot for weekdays\n",
    "sns.countplot(x='pickup_hour', data=data.loc[(data.day_of_the_week >= 0) & (data.day_of_the_week <=4)], palette='Set2')"
   ]
  },
  {
   "cell_type": "code",
   "execution_count": 34,
   "id": "ca59a1f1",
   "metadata": {},
   "outputs": [
    {
     "data": {
      "text/plain": [
       "<AxesSubplot:title={'center':'Weekend Trips'}, xlabel='pickup_hour', ylabel='count'>"
      ]
     },
     "execution_count": 34,
     "metadata": {},
     "output_type": "execute_result"
    },
    {
     "data": {
      "image/png": "[encoded data removed]",
      "text/plain": [
       "<Figure size 1000x500 with 1 Axes>"
      ]
     },
     "metadata": {},
     "output_type": "display_data"
    }
   ],
   "source": [
    "# Countplot in day of the week to see peak hours\n",
    "plt.figure(figsize=(10,5))\n",
    "plt.title('Weekend Trips')\n",
    "sns.set_style(\"white\")\n",
    "#plot the countplot for weekdays\n",
    "sns.countplot(x='pickup_hour', data=data.loc[(data.day_of_the_week >= 5) & (data.day_of_the_week <= 6)], palette='Set2')"
   ]
  },
  {
   "cell_type": "markdown",
   "id": "fc8323a7",
   "metadata": {},
   "source": [
    "We can clearly see that during weekdays, peak hours are during the day while on weekends, peak hours are late in the night"
   ]
  },
  {
   "cell_type": "markdown",
   "id": "4ab9d261",
   "metadata": {},
   "source": [
    "# Bivariate / Multivariate Analysis"
   ]
  },
  {
   "cell_type": "code",
   "execution_count": 35,
   "id": "ae1d5b03",
   "metadata": {},
   "outputs": [],
   "source": [
    "import geopandas as gpd"
   ]
  },
  {
   "cell_type": "code",
   "execution_count": 36,
   "id": "8714fd49",
   "metadata": {},
   "outputs": [
    {
     "data": {
      "image/png": "[encoded data removed]",
      "text/plain": [
       "<Figure size 640x480 with 1 Axes>"
      ]
     },
     "metadata": {},
     "output_type": "display_data"
    }
   ],
   "source": [
    "#Scatte plot of distance vs fare amount\n",
    "plt.scatter(x = data.distance_travelled, y = data.fare_amount)\n",
    "\n",
    "# Show the plot\n",
    "plt.show()"
   ]
  },
  {
   "cell_type": "markdown",
   "id": "b360e828",
   "metadata": {},
   "source": [
    "Generally, as distance increases, the fare amount also increases with a few sporadic inconsistencies"
   ]
  },
  {
   "cell_type": "code",
   "execution_count": 37,
   "id": "9d943dfc",
   "metadata": {},
   "outputs": [
    {
     "data": {
      "image/png": "[encoded data removed]",
      "text/plain": [
       "<Figure size 640x480 with 1 Axes>"
      ]
     },
     "metadata": {},
     "output_type": "display_data"
    }
   ],
   "source": [
    "#Scatte plot of day of the week vs fare amount\n",
    "plt.scatter(x = data.day_of_the_week, y = data.fare_amount)\n",
    "\n",
    "# Show the plot\n",
    "plt.show()"
   ]
  },
  {
   "cell_type": "markdown",
   "id": "c88bac8d",
   "metadata": {},
   "source": [
    "Generally speaking, weekend fares are higher than weekday fares. This could be due to distance travelled or due to peak hours"
   ]
  },
  {
   "cell_type": "code",
   "execution_count": 38,
   "id": "d2f06337",
   "metadata": {},
   "outputs": [
    {
     "data": {
      "image/png": "[encoded data removed]",
      "text/plain": [
       "<Figure size 640x480 with 1 Axes>"
      ]
     },
     "metadata": {},
     "output_type": "display_data"
    }
   ],
   "source": [
    "#Scatte plot of day of the week vs distance to see if there is any relationship between them\n",
    "plt.scatter(x = data.day_of_the_week, y = data.distance_travelled)\n",
    "\n",
    "# Show the plot\n",
    "plt.show()"
   ]
  },
  {
   "cell_type": "markdown",
   "id": "0400c050",
   "metadata": {},
   "source": [
    "We see that there isn;t much of a relationship between distance travelled vs fay of the week - thus, it is appears that fare amount being higher on weekends has a high likelihood of being linked to peak hours / wait time due to higher traffic.\n",
    "\n",
    "Unfortunately, we do not have the dropoff time for each ride to be able to ascertain the time of each trip and demonstrate if we can see a relationship between fare and time travelled"
   ]
  },
  {
   "cell_type": "code",
   "execution_count": 39,
   "id": "3a0b83c3",
   "metadata": {},
   "outputs": [
    {
     "data": {
      "image/png": "[encoded data removed]",
      "text/plain": [
       "<Figure size 640x480 with 1 Axes>"
      ]
     },
     "metadata": {},
     "output_type": "display_data"
    }
   ],
   "source": [
    "#Scatte plot of pickup time vs fare amount\n",
    "plt.scatter(x = data.pickup_hour, y = data.fare_amount)\n",
    "\n",
    "# Show the plot\n",
    "plt.show()"
   ]
  },
  {
   "cell_type": "markdown",
   "id": "494cad96",
   "metadata": {},
   "source": [
    "We do see some pickup times having a greater % of higher fares as compared to others - however, it is difficult to draw a concluding relationship"
   ]
  },
  {
   "cell_type": "code",
   "execution_count": 40,
   "id": "d783ebae",
   "metadata": {},
   "outputs": [
    {
     "data": {
      "image/png": "[encoded data removed]",
      "text/plain": [
       "<Figure size 640x480 with 1 Axes>"
      ]
     },
     "metadata": {},
     "output_type": "display_data"
    }
   ],
   "source": [
    "#Scatte plot of pickup time vs distance\n",
    "plt.scatter(x = data.pickup_hour, y = data.distance_travelled)\n",
    "\n",
    "# Show the plot\n",
    "plt.show()"
   ]
  },
  {
   "cell_type": "markdown",
   "id": "adb9f1ab",
   "metadata": {},
   "source": [
    "Some pickup hours have a greater concentration of trips where a high distance was travelled as compared to others"
   ]
  },
  {
   "cell_type": "markdown",
   "id": "d5264abf",
   "metadata": {},
   "source": [
    "Linear\n",
    "Logistic\n",
    "RF Regressor\n",
    "DT Regressor\n",
    "SVR Regressor"
   ]
  },
  {
   "cell_type": "markdown",
   "id": "aacf96b9",
   "metadata": {},
   "source": [
    "### Data Preparatrion"
   ]
  },
  {
   "cell_type": "code",
   "execution_count": 41,
   "id": "fc55f60e",
   "metadata": {},
   "outputs": [],
   "source": [
    "# splitting data into training and test set using default parameters\n",
    "x_train, x_test, y_train, y_test = train_test_split(data.drop('fare_amount', axis = 1), data['fare_amount'])"
   ]
  },
  {
   "cell_type": "markdown",
   "id": "d3eb9678",
   "metadata": {},
   "source": [
    "### Feature Scaling"
   ]
  },
  {
   "cell_type": "markdown",
   "id": "d9370514",
   "metadata": {},
   "source": [
    "Feature Scaling is required because of two reasons:\n",
    "1. The data points are far from each other. This means that in some columns, the distance between data points is a lot\n",
    "2. Some of the features have a unit while other features are unitless. Thereofre, it is important to make all features unitless"
   ]
  },
  {
   "cell_type": "code",
   "execution_count": 42,
   "id": "386d818b",
   "metadata": {},
   "outputs": [],
   "source": [
    "#Feature Scaling (Standardization)\n",
    "\n",
    "from sklearn.preprocessing import StandardScaler\n",
    "\n",
    "std = StandardScaler()"
   ]
  },
  {
   "cell_type": "code",
   "execution_count": 43,
   "id": "7509c366",
   "metadata": {},
   "outputs": [],
   "source": [
    "x = data.drop(['fare_amount'], axis = 1)\n",
    "y = data['fare_amount'].values.reshape(-1, 1)"
   ]
  },
  {
   "cell_type": "code",
   "execution_count": 44,
   "id": "c7f447d1",
   "metadata": {},
   "outputs": [],
   "source": [
    "y_std = std.fit_transform(y)\n",
    "\n",
    "x_std = std.fit_transform(x)"
   ]
  },
  {
   "cell_type": "code",
   "execution_count": 45,
   "id": "1ff4ccd8",
   "metadata": {},
   "outputs": [],
   "source": [
    "x_train, x_test, y_train, y_test = train_test_split(x_std, y_std, test_size = 0.3, random_state = 42)"
   ]
  },
  {
   "cell_type": "code",
   "execution_count": 46,
   "id": "c0e310e4",
   "metadata": {},
   "outputs": [
    {
     "data": {
      "text/plain": [
       "(132342, 6)"
      ]
     },
     "execution_count": 46,
     "metadata": {},
     "output_type": "execute_result"
    }
   ],
   "source": [
    "x_train.shape"
   ]
  },
  {
   "cell_type": "code",
   "execution_count": 47,
   "id": "ef966bd6",
   "metadata": {},
   "outputs": [
    {
     "data": {
      "text/plain": [
       "(132342, 1)"
      ]
     },
     "execution_count": 47,
     "metadata": {},
     "output_type": "execute_result"
    }
   ],
   "source": [
    "y_train.shape"
   ]
  },
  {
   "cell_type": "code",
   "execution_count": 48,
   "id": "9e8f3391",
   "metadata": {},
   "outputs": [
    {
     "data": {
      "text/plain": [
       "(56719, 6)"
      ]
     },
     "execution_count": 48,
     "metadata": {},
     "output_type": "execute_result"
    }
   ],
   "source": [
    "x_test.shape"
   ]
  },
  {
   "cell_type": "code",
   "execution_count": 49,
   "id": "54366580",
   "metadata": {},
   "outputs": [
    {
     "data": {
      "text/plain": [
       "(56719, 1)"
      ]
     },
     "execution_count": 49,
     "metadata": {},
     "output_type": "execute_result"
    }
   ],
   "source": [
    "y_test.shape"
   ]
  },
  {
   "cell_type": "markdown",
   "id": "f708be35",
   "metadata": {},
   "source": [
    "# Regression Models"
   ]
  },
  {
   "cell_type": "code",
   "execution_count": 50,
   "id": "e275cb4c",
   "metadata": {},
   "outputs": [],
   "source": [
    "# Linear Regression\n",
    "# Random Forest Regressor\n",
    "# Decision Tree Regressor\n",
    "# SVR Regressor"
   ]
  },
  {
   "cell_type": "markdown",
   "id": "5cfe6322",
   "metadata": {},
   "source": [
    "## Linear Regression"
   ]
  },
  {
   "cell_type": "code",
   "execution_count": 51,
   "id": "9a607960",
   "metadata": {},
   "outputs": [
    {
     "data": {
      "text/plain": [
       "LinearRegression()"
      ]
     },
     "execution_count": 51,
     "metadata": {},
     "output_type": "execute_result"
    }
   ],
   "source": [
    "from sklearn.linear_model import LinearRegression\n",
    "LR = LinearRegression()\n",
    "LR.fit(x_train,y_train)"
   ]
  },
  {
   "cell_type": "code",
   "execution_count": 52,
   "id": "15779d6c",
   "metadata": {},
   "outputs": [],
   "source": [
    "LR_pred = LR.predict(x_test)"
   ]
  },
  {
   "cell_type": "code",
   "execution_count": 53,
   "id": "f1993355",
   "metadata": {},
   "outputs": [
    {
     "name": "stdout",
     "output_type": "stream",
     "text": [
      "Training set score: 0.65\n",
      "Test set score: 0.5782372\n"
     ]
    }
   ],
   "source": [
    "print(\"Training set score: {:.2f}\".format(LR.score(x_train, y_train)))\n",
    "print(\"Test set score: {:.7f}\".format(LR.score(x_test, y_test)))"
   ]
  },
  {
   "cell_type": "code",
   "execution_count": 54,
   "id": "e8738db2",
   "metadata": {},
   "outputs": [],
   "source": [
    "from sklearn import metrics\n",
    "from sklearn.metrics import r2_score\n",
    "\n",
    "MAE_LR= metrics.mean_absolute_error(y_test, LR_pred)\n",
    "MSE_LR= metrics.mean_squared_error(y_test, LR_pred)\n",
    "RMSE_LR= np.sqrt(metrics.mean_squared_error(y_test, LR_pred))\n",
    "r2_LR=r2_score(y_test, LR_pred)\n",
    "Adj_r2_LR=1-(1-r2_score(y_test, LR_pred))*((len(x_test)-1)/(len(x_test)-len(x_test[0])-1))"
   ]
  },
  {
   "cell_type": "code",
   "execution_count": 56,
   "id": "86991b64",
   "metadata": {},
   "outputs": [
    {
     "name": "stdout",
     "output_type": "stream",
     "text": [
      "Mean absolute error of linear regression 0.2573904473859175\n",
      "Mean square  error of linear regression 0.4147342387915018\n",
      "root Mean square error of linear regression 0.6439986326006459\n",
      "r2 score of linear regression 0.5782372370795459\n",
      "adjusted r2 of linear regression 0.5781926155430541\n"
     ]
    }
   ],
   "source": [
    "print('Mean absolute error of linear regression',MAE_LR)\n",
    "print('Mean square  error of linear regression',MSE_LR)\n",
    "print('root Mean square error of linear regression',RMSE_LR)\n",
    "print('r2 score of linear regression',r2_LR)\n",
    "print('adjusted r2 of linear regression',Adj_r2_LR)"
   ]
  },
  {
   "cell_type": "markdown",
   "id": "4207f7c5",
   "metadata": {},
   "source": [
    "### Decision Tree Regressor"
   ]
  },
  {
   "cell_type": "code",
   "execution_count": 57,
   "id": "9195cc76",
   "metadata": {},
   "outputs": [
    {
     "data": {
      "text/plain": [
       "DecisionTreeRegressor()"
      ]
     },
     "execution_count": 57,
     "metadata": {},
     "output_type": "execute_result"
    }
   ],
   "source": [
    "from sklearn.tree import DecisionTreeRegressor\n",
    "\n",
    "DT = DecisionTreeRegressor()\n",
    "DT.fit(x_train, y_train)"
   ]
  },
  {
   "cell_type": "code",
   "execution_count": 58,
   "id": "fd669a84",
   "metadata": {},
   "outputs": [],
   "source": [
    "DTpreds = DT.predict(x_test)"
   ]
  },
  {
   "cell_type": "code",
   "execution_count": 59,
   "id": "3e3f2cd0",
   "metadata": {},
   "outputs": [
    {
     "name": "stdout",
     "output_type": "stream",
     "text": [
      "Training set score: 1.00\n",
      "Test set score: 0.5534644\n"
     ]
    }
   ],
   "source": [
    "print(\"Training set score: {:.2f}\".format(DT.score(x_train, y_train)))\n",
    "print(\"Test set score: {:.7f}\".format(DT.score(x_test, y_test)))"
   ]
  },
  {
   "cell_type": "code",
   "execution_count": 60,
   "id": "186be349",
   "metadata": {},
   "outputs": [],
   "source": [
    "MAE_DT= metrics.mean_absolute_error(y_test, DTpreds)\n",
    "MSE_DT= metrics.mean_squared_error(y_test, DTpreds)\n",
    "RMSE_DT= np.sqrt(metrics.mean_squared_error(y_test, DTpreds))\n",
    "r2_DT=r2_score(y_test, DTpreds)\n",
    "Adj_r2_DT=1-(1-r2_score(y_test, DTpreds))*((len(x_test)-1)/(len(x_test)-len(x_test[0])-1))"
   ]
  },
  {
   "cell_type": "code",
   "execution_count": 61,
   "id": "0ed57cc7",
   "metadata": {},
   "outputs": [
    {
     "name": "stdout",
     "output_type": "stream",
     "text": [
      "Mean absolute error of decision tree 0.3057985965975342\n",
      "Mean square  error of decision tree 0.4390942259940837\n",
      "root Mean square error of decision tree 0.662641853488054\n",
      "r2 score of decision tree 0.5534644198238359\n",
      "adjusted r2 of decision tree 0.55341717737989\n"
     ]
    }
   ],
   "source": [
    "print('Mean absolute error of decision tree',MAE_DT)\n",
    "print('Mean square  error of decision tree',MSE_DT)\n",
    "print('root Mean square error of decision tree',RMSE_DT)\n",
    "print('r2 score of decision tree',r2_DT)\n",
    "print('adjusted r2 of decision tree',Adj_r2_DT)"
   ]
  },
  {
   "cell_type": "markdown",
   "id": "9310655a",
   "metadata": {},
   "source": [
    "### Random Forest regressor"
   ]
  },
  {
   "cell_type": "code",
   "execution_count": 62,
   "id": "5f835836",
   "metadata": {},
   "outputs": [
    {
     "name": "stderr",
     "output_type": "stream",
     "text": [
      "C:\\Users\\muham\\AppData\\Local\\Temp\\ipykernel_35076\\3802589840.py:4: DataConversionWarning: A column-vector y was passed when a 1d array was expected. Please change the shape of y to (n_samples,), for example using ravel().\n",
      "  RF.fit(x_train, y_train)\n"
     ]
    },
    {
     "data": {
      "text/plain": [
       "RandomForestRegressor()"
      ]
     },
     "execution_count": 62,
     "metadata": {},
     "output_type": "execute_result"
    }
   ],
   "source": [
    "from sklearn.ensemble import RandomForestRegressor\n",
    "\n",
    "RF = RandomForestRegressor()\n",
    "RF.fit(x_train, y_train)"
   ]
  },
  {
   "cell_type": "code",
   "execution_count": 63,
   "id": "b7719d95",
   "metadata": {},
   "outputs": [],
   "source": [
    "RFpreds = RF.predict(x_test)"
   ]
  },
  {
   "cell_type": "code",
   "execution_count": 64,
   "id": "7251b8eb",
   "metadata": {},
   "outputs": [
    {
     "name": "stdout",
     "output_type": "stream",
     "text": [
      "Training set score: 0.97\n",
      "Test set score: 0.7909477\n"
     ]
    }
   ],
   "source": [
    "print(\"Training set score: {:.2f}\".format(RF.score(x_train, y_train)))\n",
    "print(\"Test set score: {:.7f}\".format(RF.score(x_test, y_test)))"
   ]
  },
  {
   "cell_type": "code",
   "execution_count": 65,
   "id": "f9227bc9",
   "metadata": {},
   "outputs": [],
   "source": [
    "MAE_RF= metrics.mean_absolute_error(y_test, RFpreds)\n",
    "MSE_RF= metrics.mean_squared_error(y_test, RFpreds)\n",
    "RMSE_RF= np.sqrt(metrics.mean_squared_error(y_test, RFpreds))\n",
    "r2_RF=r2_score(y_test, RFpreds)\n",
    "Adj_r2_RF=1-(1-r2_score(y_test, RFpreds))*((len(x_test)-1)/(len(x_test)-len(x_test[0])-1))"
   ]
  },
  {
   "cell_type": "code",
   "execution_count": 66,
   "id": "165ef7cc",
   "metadata": {
    "scrolled": true
   },
   "outputs": [
    {
     "name": "stdout",
     "output_type": "stream",
     "text": [
      "Mean absolute error of random forest 0.2250190611190339\n",
      "Mean square  error of random forest 0.20556852672763393\n",
      "root Mean square error of random forest 0.4533966549585847\n",
      "r2 score of random forest 0.7909476920575127\n",
      "adjusted r2 of random forest 0.7909255748010651\n"
     ]
    }
   ],
   "source": [
    "print('Mean absolute error of random forest',MAE_RF)\n",
    "print('Mean square  error of random forest',MSE_RF)\n",
    "print('root Mean square error of random forest',RMSE_RF)\n",
    "print('r2 score of random forest',r2_RF)\n",
    "print('adjusted r2 of random forest',Adj_r2_RF)"
   ]
  },
  {
   "cell_type": "markdown",
   "id": "43dc8782",
   "metadata": {},
   "source": [
    "# Boosting"
   ]
  },
  {
   "cell_type": "code",
   "execution_count": 67,
   "id": "cb6bceed",
   "metadata": {},
   "outputs": [],
   "source": [
    "from sklearn.ensemble import GradientBoostingRegressor, AdaBoostRegressor"
   ]
  },
  {
   "cell_type": "markdown",
   "id": "17a7feae",
   "metadata": {},
   "source": [
    "## Gradient Boosting"
   ]
  },
  {
   "cell_type": "code",
   "execution_count": 68,
   "id": "e6c42915",
   "metadata": {},
   "outputs": [
    {
     "name": "stderr",
     "output_type": "stream",
     "text": [
      "C:\\Users\\muham\\anaconda3\\lib\\site-packages\\sklearn\\ensemble\\_gb.py:494: DataConversionWarning: A column-vector y was passed when a 1d array was expected. Please change the shape of y to (n_samples, ), for example using ravel().\n",
      "  y = column_or_1d(y, warn=True)\n"
     ]
    }
   ],
   "source": [
    "gbr = GradientBoostingRegressor(random_state = 42)\n",
    "gbr.fit(x_train, y_train)\n",
    "predictions_gbr = gbr.predict(x_test)"
   ]
  },
  {
   "cell_type": "code",
   "execution_count": 69,
   "id": "6e54b191",
   "metadata": {},
   "outputs": [
    {
     "name": "stdout",
     "output_type": "stream",
     "text": [
      "Training set score: 0.82\n",
      "Test set score: 0.7828862\n"
     ]
    }
   ],
   "source": [
    "print(\"Training set score: {:.2f}\".format(gbr.score(x_train, y_train)))\n",
    "print(\"Test set score: {:.7f}\".format(gbr.score(x_test, y_test)))"
   ]
  },
  {
   "cell_type": "code",
   "execution_count": 70,
   "id": "683c3e7d",
   "metadata": {},
   "outputs": [],
   "source": [
    "MAE_GBR= metrics.mean_absolute_error(y_test, predictions_gbr)\n",
    "MSE_GBR= metrics.mean_squared_error(y_test, predictions_gbr)\n",
    "RMSE_GBR= np.sqrt(metrics.mean_squared_error(y_test, predictions_gbr))\n",
    "r2_GBR=r2_score(y_test, predictions_gbr)\n",
    "Adj_r2_GBR=1-(1-r2_score(y_test, predictions_gbr))*((len(x_test)-1)/(len(x_test)-len(x_test[0])-1))"
   ]
  },
  {
   "cell_type": "code",
   "execution_count": 71,
   "id": "c60c6269",
   "metadata": {
    "scrolled": false
   },
   "outputs": [
    {
     "name": "stdout",
     "output_type": "stream",
     "text": [
      "Mean absolute error of gradient boosting regressor 0.2119350848285695\n",
      "Mean square  error of gradient boosting regressor 0.2134956752780714\n",
      "root Mean square error of gradient boosting regressor 0.46205592224109776\n",
      "r2 score of gradient boosting regressor 0.7828862016812764\n",
      "adjusted r2 of gradient boosting regressor 0.7828632315375694\n"
     ]
    }
   ],
   "source": [
    "print('Mean absolute error of gradient boosting regressor',MAE_GBR)\n",
    "print('Mean square  error of gradient boosting regressor',MSE_GBR)\n",
    "print('root Mean square error of gradient boosting regressor',RMSE_GBR)\n",
    "print('r2 score of gradient boosting regressor',r2_GBR)\n",
    "print('adjusted r2 of gradient boosting regressor',Adj_r2_GBR)"
   ]
  },
  {
   "cell_type": "markdown",
   "id": "228c1543",
   "metadata": {},
   "source": [
    "## XGBoost Classifier"
   ]
  },
  {
   "cell_type": "code",
   "execution_count": 72,
   "id": "a2a363d7",
   "metadata": {},
   "outputs": [],
   "source": [
    "from xgboost import XGBRegressor"
   ]
  },
  {
   "cell_type": "code",
   "execution_count": 73,
   "id": "90368ee5",
   "metadata": {},
   "outputs": [],
   "source": [
    "xgb = XGBRegressor(random_state = 42, scale_pos_weight = 1)\n",
    "xgb.fit(x_train, y_train)\n",
    "predictions_xgb = xgb.predict(x_test)"
   ]
  },
  {
   "cell_type": "code",
   "execution_count": 74,
   "id": "27c80c62",
   "metadata": {},
   "outputs": [
    {
     "name": "stdout",
     "output_type": "stream",
     "text": [
      "Training set score: 0.88\n",
      "Test set score: 0.7880571\n"
     ]
    }
   ],
   "source": [
    "print(\"Training set score: {:.2f}\".format(xgb.score(x_train, y_train)))\n",
    "print(\"Test set score: {:.7f}\".format(xgb.score(x_test, y_test)))"
   ]
  },
  {
   "cell_type": "code",
   "execution_count": 75,
   "id": "6079718d",
   "metadata": {},
   "outputs": [],
   "source": [
    "MAE_XGB= metrics.mean_absolute_error(y_test, predictions_xgb)\n",
    "MSE_XGB= metrics.mean_squared_error(y_test, predictions_xgb)\n",
    "RMSE_XGB= np.sqrt(metrics.mean_squared_error(y_test, predictions_xgb))\n",
    "r2_XGB=r2_score(y_test, predictions_xgb)\n",
    "Adj_r2_XGB=1-(1-r2_score(y_test, predictions_xgb))*((len(x_test)-1)/(len(x_test)-len(x_test[0])-1))"
   ]
  },
  {
   "cell_type": "code",
   "execution_count": 76,
   "id": "5c7eafd7",
   "metadata": {},
   "outputs": [
    {
     "name": "stdout",
     "output_type": "stream",
     "text": [
      "Mean absolute error of XGB regressor 0.21013585337713858\n",
      "Mean square  error of XGB regressor 0.20841097125744246\n",
      "root Mean square error of XGB regressor 0.4565205047502713\n",
      "r2 score of XGB regressor 0.7880570764627322\n",
      "adjusted r2 of XGB regressor 0.7880346533857604\n"
     ]
    }
   ],
   "source": [
    "print('Mean absolute error of XGB regressor',MAE_XGB)\n",
    "print('Mean square  error of XGB regressor',MSE_XGB)\n",
    "print('root Mean square error of XGB regressor',RMSE_XGB)\n",
    "print('r2 score of XGB regressor',r2_XGB)\n",
    "print('adjusted r2 of XGB regressor',Adj_r2_XGB)"
   ]
  },
  {
   "cell_type": "code",
   "execution_count": null,
   "id": "f657225e",
   "metadata": {},
   "outputs": [],
   "source": []
  },
  {
   "cell_type": "markdown",
   "id": "4d61687d",
   "metadata": {},
   "source": [
    "# Choosing the best models"
   ]
  },
  {
   "cell_type": "code",
   "execution_count": 78,
   "id": "e6bf4ff5",
   "metadata": {},
   "outputs": [],
   "source": [
    "cols = ['Model', 'MSE', 'RMSE', 'R2_score','MAE','ADJ_r']\n",
    "\n",
    "# create a empty dataframe of the colums\n",
    "result_table = pd.DataFrame(columns = cols)"
   ]
  },
  {
   "cell_type": "code",
   "execution_count": 79,
   "id": "6ab5062a",
   "metadata": {},
   "outputs": [],
   "source": [
    "full_metrics = pd.Series({'Model': \"Linear Regression\", 'MSE': MSE_LR, 'RMSE' : RMSE_LR, 'R2_score' : r2_LR,'MAE':MAE_LR,'ADJ_r':Adj_r2_LR})"
   ]
  },
  {
   "cell_type": "code",
   "execution_count": 80,
   "id": "21de1535",
   "metadata": {},
   "outputs": [
    {
     "name": "stderr",
     "output_type": "stream",
     "text": [
      "C:\\Users\\muham\\AppData\\Local\\Temp\\ipykernel_35076\\917985854.py:1: FutureWarning: The frame.append method is deprecated and will be removed from pandas in a future version. Use pandas.concat instead.\n",
      "  result_table = result_table.append(full_metrics, ignore_index = True)\n"
     ]
    }
   ],
   "source": [
    "result_table = result_table.append(full_metrics, ignore_index = True)"
   ]
  },
  {
   "cell_type": "code",
   "execution_count": 81,
   "id": "37391c53",
   "metadata": {},
   "outputs": [],
   "source": [
    "full_metrics = pd.Series({'Model': \"Decision Tree\", 'MSE': MSE_DT, 'RMSE' : RMSE_DT, 'R2_score' : r2_DT,'MAE':MAE_DT,'ADJ_r':Adj_r2_DT})"
   ]
  },
  {
   "cell_type": "code",
   "execution_count": 82,
   "id": "415ef266",
   "metadata": {},
   "outputs": [
    {
     "name": "stderr",
     "output_type": "stream",
     "text": [
      "C:\\Users\\muham\\AppData\\Local\\Temp\\ipykernel_35076\\917985854.py:1: FutureWarning: The frame.append method is deprecated and will be removed from pandas in a future version. Use pandas.concat instead.\n",
      "  result_table = result_table.append(full_metrics, ignore_index = True)\n"
     ]
    }
   ],
   "source": [
    "result_table = result_table.append(full_metrics, ignore_index = True)"
   ]
  },
  {
   "cell_type": "code",
   "execution_count": 84,
   "id": "f07f3582",
   "metadata": {},
   "outputs": [],
   "source": [
    "full_metrics = pd.Series({'Model': \"Random Forest\", 'MSE': MSE_RF, 'RMSE' : RMSE_RF, 'R2_score' : r2_RF,'MAE':MAE_RF,'ADJ_r':Adj_r2_RF})"
   ]
  },
  {
   "cell_type": "code",
   "execution_count": 85,
   "id": "6e10b7f9",
   "metadata": {},
   "outputs": [
    {
     "name": "stderr",
     "output_type": "stream",
     "text": [
      "C:\\Users\\muham\\AppData\\Local\\Temp\\ipykernel_35076\\917985854.py:1: FutureWarning: The frame.append method is deprecated and will be removed from pandas in a future version. Use pandas.concat instead.\n",
      "  result_table = result_table.append(full_metrics, ignore_index = True)\n"
     ]
    }
   ],
   "source": [
    "result_table = result_table.append(full_metrics, ignore_index = True)"
   ]
  },
  {
   "cell_type": "code",
   "execution_count": 86,
   "id": "c970b379",
   "metadata": {},
   "outputs": [],
   "source": [
    "full_metrics = pd.Series({'Model': \"Gardient Boosting\", 'MSE': MSE_GBR, 'RMSE' : RMSE_GBR, 'R2_score' : r2_GBR,'MAE':MAE_GBR,'ADJ_r':Adj_r2_GBR})"
   ]
  },
  {
   "cell_type": "code",
   "execution_count": 87,
   "id": "b219a419",
   "metadata": {},
   "outputs": [
    {
     "name": "stderr",
     "output_type": "stream",
     "text": [
      "C:\\Users\\muham\\AppData\\Local\\Temp\\ipykernel_35076\\917985854.py:1: FutureWarning: The frame.append method is deprecated and will be removed from pandas in a future version. Use pandas.concat instead.\n",
      "  result_table = result_table.append(full_metrics, ignore_index = True)\n"
     ]
    }
   ],
   "source": [
    "result_table = result_table.append(full_metrics, ignore_index = True)"
   ]
  },
  {
   "cell_type": "code",
   "execution_count": 88,
   "id": "4a99d213",
   "metadata": {},
   "outputs": [],
   "source": [
    "full_metrics = pd.Series({'Model': \"XGBoost\", 'MSE': MSE_XGB, 'RMSE' : RMSE_XGB, 'R2_score' : r2_XGB,'MAE':MAE_XGB,'ADJ_r':Adj_r2_XGB})"
   ]
  },
  {
   "cell_type": "code",
   "execution_count": 89,
   "id": "30a9ac02",
   "metadata": {},
   "outputs": [
    {
     "name": "stderr",
     "output_type": "stream",
     "text": [
      "C:\\Users\\muham\\AppData\\Local\\Temp\\ipykernel_35076\\917985854.py:1: FutureWarning: The frame.append method is deprecated and will be removed from pandas in a future version. Use pandas.concat instead.\n",
      "  result_table = result_table.append(full_metrics, ignore_index = True)\n"
     ]
    }
   ],
   "source": [
    "result_table = result_table.append(full_metrics, ignore_index = True)"
   ]
  },
  {
   "cell_type": "code",
   "execution_count": 90,
   "id": "ad1202ca",
   "metadata": {},
   "outputs": [
    {
     "data": {
      "text/html": [
       "<div>\n",
       "<style scoped>\n",
       "    .dataframe tbody tr th:only-of-type {\n",
       "        vertical-align: middle;\n",
       "    }\n",
       "\n",
       "    .dataframe tbody tr th {\n",
       "        vertical-align: top;\n",
       "    }\n",
       "\n",
       "    .dataframe thead th {\n",
       "        text-align: right;\n",
       "    }\n",
       "</style>\n",
       "<table border=\"1\" class=\"dataframe\">\n",
       "  <thead>\n",
       "    <tr style=\"text-align: right;\">\n",
       "      <th></th>\n",
       "      <th>Model</th>\n",
       "      <th>MSE</th>\n",
       "      <th>RMSE</th>\n",
       "      <th>R2_score</th>\n",
       "      <th>MAE</th>\n",
       "      <th>ADJ_r</th>\n",
       "    </tr>\n",
       "  </thead>\n",
       "  <tbody>\n",
       "    <tr>\n",
       "      <th>0</th>\n",
       "      <td>Linear Regression</td>\n",
       "      <td>0.414734</td>\n",
       "      <td>0.643999</td>\n",
       "      <td>0.578237</td>\n",
       "      <td>0.257390</td>\n",
       "      <td>0.578193</td>\n",
       "    </tr>\n",
       "    <tr>\n",
       "      <th>1</th>\n",
       "      <td>Decision Tree</td>\n",
       "      <td>0.439094</td>\n",
       "      <td>0.662642</td>\n",
       "      <td>0.553464</td>\n",
       "      <td>0.305799</td>\n",
       "      <td>0.553417</td>\n",
       "    </tr>\n",
       "    <tr>\n",
       "      <th>2</th>\n",
       "      <td>Random Forest</td>\n",
       "      <td>0.205569</td>\n",
       "      <td>0.453397</td>\n",
       "      <td>0.790948</td>\n",
       "      <td>0.225019</td>\n",
       "      <td>0.790926</td>\n",
       "    </tr>\n",
       "    <tr>\n",
       "      <th>3</th>\n",
       "      <td>Gardient Boosting</td>\n",
       "      <td>0.213496</td>\n",
       "      <td>0.462056</td>\n",
       "      <td>0.782886</td>\n",
       "      <td>0.211935</td>\n",
       "      <td>0.782863</td>\n",
       "    </tr>\n",
       "    <tr>\n",
       "      <th>4</th>\n",
       "      <td>XGBoost</td>\n",
       "      <td>0.208411</td>\n",
       "      <td>0.456521</td>\n",
       "      <td>0.788057</td>\n",
       "      <td>0.210136</td>\n",
       "      <td>0.788035</td>\n",
       "    </tr>\n",
       "  </tbody>\n",
       "</table>\n",
       "</div>"
      ],
      "text/plain": [
       "               Model       MSE      RMSE  R2_score       MAE     ADJ_r\n",
       "0  Linear Regression  0.414734  0.643999  0.578237  0.257390  0.578193\n",
       "1      Decision Tree  0.439094  0.662642  0.553464  0.305799  0.553417\n",
       "2      Random Forest  0.205569  0.453397  0.790948  0.225019  0.790926\n",
       "3  Gardient Boosting  0.213496  0.462056  0.782886  0.211935  0.782863\n",
       "4            XGBoost  0.208411  0.456521  0.788057  0.210136  0.788035"
      ]
     },
     "execution_count": 90,
     "metadata": {},
     "output_type": "execute_result"
    }
   ],
   "source": [
    "result_table"
   ]
  },
  {
   "cell_type": "markdown",
   "id": "4314e9a0",
   "metadata": {},
   "source": [
    "Based on the above, Random Forest produces the best results out of all tested models. However, hyperparameter tuning could help improve the results"
   ]
  }
 ],
 "metadata": {
  "kernelspec": {
   "display_name": "Python 3 (ipykernel)",
   "language": "python",
   "name": "python3"
  },
  "language_info": {
   "codemirror_mode": {
    "name": "ipython",
    "version": 3
   },
   "file_extension": ".py",
   "mimetype": "text/x-python",
   "name": "python",
   "nbconvert_exporter": "python",
   "pygments_lexer": "ipython3",
   "version": "3.9.13"
  }
 },
 "nbformat": 4,
 "nbformat_minor": 5
}
